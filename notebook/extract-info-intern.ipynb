{
 "cells": [
  {
   "cell_type": "code",
   "execution_count": null,
   "metadata": {},
   "outputs": [],
   "source": [
    "import os\n",
    "import sys\n",
    "import json\n",
    "import copy\n",
    "sys.path.append(\"..\")\n",
    "from lib.tweets import * \n",
    "\n",
    "searchString = 'map.decarbnow.abteil.org'\n",
    "extractUrl = searchString + '/'"
   ]
  },
  {
   "cell_type": "code",
   "execution_count": null,
   "metadata": {},
   "outputs": [],
   "source": [
    "tweets = readTweetsFromFolder(os.path.join('tweets', searchString))\n",
    "print('Count all tweets {}'.format(len(tweets)))\n",
    "# print([getPathsOfLinks(t) for t in tweets])\n",
    "tweetsFilter = [t for t in tweets if len(getPathsOfLinks(t)) > 0]\n",
    "print('Count filtered tweets {}'.format(len(tweetsFilter)))"
   ]
  },
  {
   "cell_type": "code",
   "execution_count": null,
   "metadata": {},
   "outputs": [],
   "source": [
    "tree = TweetTree(tweets)\n",
    "print(tree)\n",
    "apiJson = tree.getApiJson()\n",
    "apiJson"
   ]
  },
  {
   "cell_type": "code",
   "execution_count": null,
   "metadata": {},
   "outputs": [],
   "source": [
    "with open('../data/api.json', 'w') as json_file:\n",
    "    json.dump(apiJson, json_file)"
   ]
  }
 ],
 "metadata": {
  "kernelspec": {
   "display_name": "decarbnow",
   "language": "python",
   "name": "decarbnow"
  },
  "language_info": {
   "codemirror_mode": {
    "name": "ipython",
    "version": 3
   },
   "file_extension": ".py",
   "mimetype": "text/x-python",
   "name": "python",
   "nbconvert_exporter": "python",
   "pygments_lexer": "ipython3",
   "version": "3.8.3"
  }
 },
 "nbformat": 4,
 "nbformat_minor": 2
}
