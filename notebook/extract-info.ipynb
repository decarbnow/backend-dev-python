{
 "cells": [
  {
   "cell_type": "code",
   "execution_count": null,
   "metadata": {},
   "outputs": [],
   "source": [
    "import os\n",
    "import json\n",
    "\n",
    "tweetFolder = '../data/tweets/'\n",
    "tweetFiles = os.listdir(tweetFolder)\n",
    "\n",
    "info = []"
   ]
  },
  {
   "cell_type": "code",
   "execution_count": null,
   "metadata": {},
   "outputs": [],
   "source": [
    "for tf in tweetFiles:\n",
    "    with open(tweetFolder + tf, 'r') as f:\n",
    "        info.append(json.load(f))\n",
    "        \n",
    "dict(info[0])"
   ]
  },
  {
   "cell_type": "code",
   "execution_count": null,
   "metadata": {},
   "outputs": [],
   "source": [
    "info[1]['entities']"
   ]
  },
  {
   "cell_type": "code",
   "execution_count": null,
   "metadata": {},
   "outputs": [],
   "source": [
    "for t in info:\n",
    "    print('------------------')\n",
    "    print(t['full_text'])\n",
    "    print('---')\n",
    "    hl = []\n",
    "    if t['entities']['hashtags']:\n",
    "        hl = [h['text'] for h in t['entities']['hashtags']]\n",
    "    print('Hashtags: ', ' '.join(hl))\n",
    "    \n",
    "    ul = []\n",
    "    if t['entities']['urls']:\n",
    "        ul = [u['expanded_url'] for u in t['entities']['urls']]\n",
    "    print('Urls: ', ' '.join(ul))"
   ]
  },
  {
   "cell_type": "code",
   "execution_count": null,
   "metadata": {},
   "outputs": [],
   "source": []
  }
 ],
 "metadata": {
  "kernelspec": {
   "display_name": "decarbnow",
   "language": "python",
   "name": "decarbnow"
  },
  "language_info": {
   "codemirror_mode": {
    "name": "ipython",
    "version": 3
   },
   "file_extension": ".py",
   "mimetype": "text/x-python",
   "name": "python",
   "nbconvert_exporter": "python",
   "pygments_lexer": "ipython3",
   "version": "3.8.3"
  }
 },
 "nbformat": 4,
 "nbformat_minor": 2
}
