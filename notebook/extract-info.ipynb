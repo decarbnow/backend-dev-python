{
 "cells": [
  {
   "cell_type": "code",
   "execution_count": null,
   "metadata": {},
   "outputs": [],
   "source": [
    "import os\n",
    "import sys\n",
    "import json\n",
    "import copy\n",
    "sys.path.append(\"..\")\n",
    "from lib.tweets import readTweetsFromFolder\n",
    "\n",
    "searchString = 'map.decarbnow.abteil.org'\n",
    "extractUrl = searchString + '/'"
   ]
  },
  {
   "cell_type": "code",
   "execution_count": null,
   "metadata": {},
   "outputs": [],
   "source": [
    "info = readTweetsFromFolder(os.path.join('tweets', searchString))\n",
    "        \n",
    "dict(info[0])"
   ]
  },
  {
   "cell_type": "code",
   "execution_count": null,
   "metadata": {},
   "outputs": [],
   "source": [
    "info[1]['entities']"
   ]
  },
  {
   "cell_type": "code",
   "execution_count": null,
   "metadata": {},
   "outputs": [],
   "source": [
    "bl = {}\n",
    "for t in info:\n",
    "    print('------------------')\n",
    "    print(t['id_str'])\n",
    "    print(t['in_reply_to_status_id'])\n",
    "    print(t['full_text'])\n",
    "    #print('---')\n",
    "    hl = []\n",
    "    if t['entities']['hashtags']:\n",
    "        hl = [h['text'] for h in t['entities']['hashtags']]\n",
    "    print('Hashtags: ', ' '.join(hl))\n",
    "    \n",
    "    ul = []\n",
    "    if t['entities']['urls']:\n",
    "        ul = [u['expanded_url'] for u in t['entities']['urls']]\n",
    "    ul = [u.split(extractUrl, 1)[1] for u in ul if extractUrl in u]\n",
    "    print('Urls: ', ' '.join(ul))\n",
    "    if (len(ul) > 0):\n",
    "        bl[t['id_str']] = {\n",
    "            'created_at': t['created_at'],\n",
    "            'tweet_id': t['id_str'],\n",
    "            'user_id': t['user']['id_str'],\n",
    "            'parent_tweet_id': t['in_reply_to_status_id_str'],\n",
    "            'parent_user_id': t['in_reply_to_user_id_str'],\n",
    "            'url': ul[0],\n",
    "            'hashtags': hl,\n",
    "            'children': []\n",
    "        }\n",
    "bl"
   ]
  },
  {
   "cell_type": "code",
   "execution_count": null,
   "metadata": {},
   "outputs": [],
   "source": [
    "blc = copy.deepcopy(bl)\n",
    "\n",
    "tree = []\n",
    "\n",
    "for e in blc.values():\n",
    "    if e['parent_tweet_id'] and e['parent_tweet_id'] in blc:\n",
    "        print('APPENDING ' + e['tweet_id'] + ' TO ' + e['parent_tweet_id'])\n",
    "        blc[e['parent_tweet_id']]['children'].append(e)\n",
    "    else:\n",
    "        print('APPENDING ' + e['tweet_id'] + ' TO ROOT')\n",
    "        tree.append(e)\n",
    "\n",
    "tree"
   ]
  },
  {
   "cell_type": "code",
   "execution_count": null,
   "metadata": {},
   "outputs": [],
   "source": [
    "final = {};\n",
    "for e in tree:\n",
    "    if len(e['children']) > 0:\n",
    "        story = e['tweet_id']\n",
    "        \n",
    "        final[e['tweet_id']] = {\n",
    "            'url': e['url'],\n",
    "            'hashtags': e['hashtags'],\n",
    "            'story': story\n",
    "        }\n",
    "        \n",
    "        while len(e['children']) > 0:\n",
    "            e = e['children'][0]\n",
    "            final[e['tweet_id']] = {\n",
    "                'url': e['url'],\n",
    "                'hashtags': e['hashtags'],\n",
    "                'story': story\n",
    "            }\n",
    "            \n",
    "    else:\n",
    "        final[e['tweet_id']] = {\n",
    "            'url': e['url'],\n",
    "            'hashtags': e['hashtags'],\n",
    "        }"
   ]
  },
  {
   "cell_type": "code",
   "execution_count": null,
   "metadata": {},
   "outputs": [],
   "source": [
    "final"
   ]
  },
  {
   "cell_type": "code",
   "execution_count": null,
   "metadata": {},
   "outputs": [],
   "source": [
    "with open('../data/first.json', 'w') as json_file:\n",
    "    json.dump(final, json_file)"
   ]
  },
  {
   "cell_type": "code",
   "execution_count": null,
   "metadata": {},
   "outputs": [],
   "source": []
  }
 ],
 "metadata": {
  "kernelspec": {
   "display_name": "decarbnow",
   "language": "python",
   "name": "decarbnow"
  },
  "language_info": {
   "codemirror_mode": {
    "name": "ipython",
    "version": 3
   },
   "file_extension": ".py",
   "mimetype": "text/x-python",
   "name": "python",
   "nbconvert_exporter": "python",
   "pygments_lexer": "ipython3",
   "version": "3.8.3"
  }
 },
 "nbformat": 4,
 "nbformat_minor": 2
}
