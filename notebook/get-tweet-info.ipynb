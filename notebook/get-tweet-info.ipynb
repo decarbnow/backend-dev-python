{
 "cells": [
  {
   "cell_type": "code",
   "execution_count": null,
   "metadata": {},
   "outputs": [],
   "source": [
    "import json\n",
    "import tweepy\n",
    "import sys, os\n",
    "sys.path.append(\"..\")\n",
    "from lib.twitter import get_api_app\n",
    "\n",
    "searchString = 'map.decarbnow.abteil.org'"
   ]
  },
  {
   "cell_type": "code",
   "execution_count": null,
   "metadata": {},
   "outputs": [],
   "source": [
    "with open('../data/{}-ids.json'.format(searchString)) as json_file:\n",
    "    ids = json.load(json_file)\n",
    "len(ids)"
   ]
  },
  {
   "cell_type": "code",
   "execution_count": null,
   "metadata": {},
   "outputs": [],
   "source": [
    "api = get_api_app()"
   ]
  },
  {
   "cell_type": "code",
   "execution_count": null,
   "metadata": {},
   "outputs": [],
   "source": [
    "d = '../data/tweets/' + searchString\n",
    "if not os.path.exists(d):\n",
    "    os.mkdir(d)\n",
    "\n",
    "for i in ids:\n",
    "    tweet = api.get_status(i, include_entities=True, tweet_mode='extended')\n",
    "    #print(tweet)\n",
    "    #next\n",
    "    with open(d + '/{}.json'.format(i), 'w') as json_file:\n",
    "        json.dump(tweet._json, json_file)"
   ]
  },
  {
   "cell_type": "code",
   "execution_count": null,
   "metadata": {},
   "outputs": [],
   "source": []
  }
 ],
 "metadata": {
  "kernelspec": {
   "display_name": "decarbnow",
   "language": "python",
   "name": "decarbnow"
  },
  "language_info": {
   "codemirror_mode": {
    "name": "ipython",
    "version": 3
   },
   "file_extension": ".py",
   "mimetype": "text/x-python",
   "name": "python",
   "nbconvert_exporter": "python",
   "pygments_lexer": "ipython3",
   "version": "3.8.3"
  }
 },
 "nbformat": 4,
 "nbformat_minor": 2
}
